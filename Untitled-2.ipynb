{
 "cells": [
  {
   "cell_type": "code",
   "execution_count": 95,
   "metadata": {},
   "outputs": [],
   "source": [
    "import pandas as pd\n",
    "import seaborn as sns\n",
    "\n",
    "\n",
    "##Models\n",
    "from sklearn.mixture import GaussianMixture\n",
    "from sklearn.datasets import make_classification\n",
    "from sklearn.metrics import RocCurveDisplay"
   ]
  },
  {
   "cell_type": "code",
   "execution_count": 12,
   "metadata": {},
   "outputs": [],
   "source": [
    "df = pd.read_csv('to_train.csv')"
   ]
  },
  {
   "cell_type": "code",
   "execution_count": 13,
   "metadata": {},
   "outputs": [
    {
     "data": {
      "text/plain": [
       "(500, 21)"
      ]
     },
     "execution_count": 13,
     "metadata": {},
     "output_type": "execute_result"
    }
   ],
   "source": [
    "df_george = df.loc[df['name'] == 'george']\n",
    "df_george.shape"
   ]
  },
  {
   "cell_type": "code",
   "execution_count": 14,
   "metadata": {},
   "outputs": [],
   "source": [
    "df_names = df['name']\n",
    "df = df.drop(['name'], axis=1)"
   ]
  },
  {
   "cell_type": "code",
   "execution_count": 15,
   "metadata": {},
   "outputs": [
    {
     "data": {
      "text/plain": [
       "0         george\n",
       "1         george\n",
       "2         george\n",
       "3         george\n",
       "4         george\n",
       "          ...   \n",
       "2995    yweweler\n",
       "2996    yweweler\n",
       "2997    yweweler\n",
       "2998    yweweler\n",
       "2999    yweweler\n",
       "Name: name, Length: 3000, dtype: object"
      ]
     },
     "execution_count": 15,
     "metadata": {},
     "output_type": "execute_result"
    }
   ],
   "source": [
    "df_names"
   ]
  },
  {
   "cell_type": "code",
   "execution_count": 16,
   "metadata": {},
   "outputs": [
    {
     "data": {
      "text/plain": [
       "(3000, 20)"
      ]
     },
     "execution_count": 16,
     "metadata": {},
     "output_type": "execute_result"
    }
   ],
   "source": [
    "df.shape"
   ]
  },
  {
   "cell_type": "code",
   "execution_count": null,
   "metadata": {},
   "outputs": [],
   "source": []
  },
  {
   "cell_type": "code",
   "execution_count": 17,
   "metadata": {},
   "outputs": [
    {
     "data": {
      "text/html": [
       "<div>\n",
       "<style scoped>\n",
       "    .dataframe tbody tr th:only-of-type {\n",
       "        vertical-align: middle;\n",
       "    }\n",
       "\n",
       "    .dataframe tbody tr th {\n",
       "        vertical-align: top;\n",
       "    }\n",
       "\n",
       "    .dataframe thead th {\n",
       "        text-align: right;\n",
       "    }\n",
       "</style>\n",
       "<table border=\"1\" class=\"dataframe\">\n",
       "  <thead>\n",
       "    <tr style=\"text-align: right;\">\n",
       "      <th></th>\n",
       "      <th>mfcc0</th>\n",
       "      <th>mfcc1</th>\n",
       "      <th>mfcc2</th>\n",
       "      <th>mfcc3</th>\n",
       "      <th>mfcc4</th>\n",
       "      <th>mfcc5</th>\n",
       "      <th>mfcc6</th>\n",
       "      <th>mfcc7</th>\n",
       "      <th>mfcc8</th>\n",
       "      <th>mfcc9</th>\n",
       "      <th>mfcc10</th>\n",
       "      <th>mfcc11</th>\n",
       "      <th>mfcc12</th>\n",
       "      <th>mfcc13</th>\n",
       "      <th>mfcc14</th>\n",
       "      <th>mfcc15</th>\n",
       "      <th>mfcc16</th>\n",
       "      <th>mfcc17</th>\n",
       "      <th>mfcc18</th>\n",
       "      <th>mfcc19</th>\n",
       "    </tr>\n",
       "  </thead>\n",
       "  <tbody>\n",
       "    <tr>\n",
       "      <th>0</th>\n",
       "      <td>-312.483826</td>\n",
       "      <td>157.413849</td>\n",
       "      <td>-83.389450</td>\n",
       "      <td>47.328335</td>\n",
       "      <td>47.099693</td>\n",
       "      <td>-55.105373</td>\n",
       "      <td>-13.754276</td>\n",
       "      <td>-17.003675</td>\n",
       "      <td>-52.974422</td>\n",
       "      <td>-11.805694</td>\n",
       "      <td>-24.018995</td>\n",
       "      <td>-43.016975</td>\n",
       "      <td>2.110411</td>\n",
       "      <td>-6.013774</td>\n",
       "      <td>-28.540850</td>\n",
       "      <td>-3.117069</td>\n",
       "      <td>-5.603108</td>\n",
       "      <td>-13.659479</td>\n",
       "      <td>-2.320226</td>\n",
       "      <td>-12.169437</td>\n",
       "    </tr>\n",
       "    <tr>\n",
       "      <th>1</th>\n",
       "      <td>-379.066345</td>\n",
       "      <td>165.666901</td>\n",
       "      <td>-57.867474</td>\n",
       "      <td>22.860203</td>\n",
       "      <td>25.974346</td>\n",
       "      <td>-46.115276</td>\n",
       "      <td>-14.100521</td>\n",
       "      <td>-26.140167</td>\n",
       "      <td>-52.515862</td>\n",
       "      <td>-9.250536</td>\n",
       "      <td>-19.969303</td>\n",
       "      <td>-40.412582</td>\n",
       "      <td>-2.325323</td>\n",
       "      <td>-6.705203</td>\n",
       "      <td>-25.866652</td>\n",
       "      <td>-7.142958</td>\n",
       "      <td>-10.470287</td>\n",
       "      <td>-16.260077</td>\n",
       "      <td>-5.955035</td>\n",
       "      <td>-14.368776</td>\n",
       "    </tr>\n",
       "    <tr>\n",
       "      <th>2</th>\n",
       "      <td>-424.772461</td>\n",
       "      <td>127.852097</td>\n",
       "      <td>-53.795578</td>\n",
       "      <td>17.831009</td>\n",
       "      <td>26.846817</td>\n",
       "      <td>-34.200123</td>\n",
       "      <td>-14.209099</td>\n",
       "      <td>-18.696369</td>\n",
       "      <td>-32.358147</td>\n",
       "      <td>-5.272920</td>\n",
       "      <td>-23.223995</td>\n",
       "      <td>-34.547401</td>\n",
       "      <td>-1.589133</td>\n",
       "      <td>-11.633971</td>\n",
       "      <td>-23.948620</td>\n",
       "      <td>-0.723396</td>\n",
       "      <td>-4.458993</td>\n",
       "      <td>-10.715401</td>\n",
       "      <td>-1.525208</td>\n",
       "      <td>-11.829735</td>\n",
       "    </tr>\n",
       "    <tr>\n",
       "      <th>3</th>\n",
       "      <td>-389.584808</td>\n",
       "      <td>166.073517</td>\n",
       "      <td>-79.408005</td>\n",
       "      <td>25.375334</td>\n",
       "      <td>32.479534</td>\n",
       "      <td>-50.722202</td>\n",
       "      <td>-10.692026</td>\n",
       "      <td>-17.150023</td>\n",
       "      <td>-45.109356</td>\n",
       "      <td>-4.970866</td>\n",
       "      <td>-23.147619</td>\n",
       "      <td>-41.559254</td>\n",
       "      <td>-0.668476</td>\n",
       "      <td>-12.243627</td>\n",
       "      <td>-26.992029</td>\n",
       "      <td>1.255178</td>\n",
       "      <td>-5.872051</td>\n",
       "      <td>-13.653750</td>\n",
       "      <td>-2.406699</td>\n",
       "      <td>-15.252200</td>\n",
       "    </tr>\n",
       "    <tr>\n",
       "      <th>4</th>\n",
       "      <td>-389.274689</td>\n",
       "      <td>169.632339</td>\n",
       "      <td>-77.210121</td>\n",
       "      <td>22.742558</td>\n",
       "      <td>36.415375</td>\n",
       "      <td>-46.292343</td>\n",
       "      <td>-13.345025</td>\n",
       "      <td>-17.793606</td>\n",
       "      <td>-43.902256</td>\n",
       "      <td>-5.215960</td>\n",
       "      <td>-21.835735</td>\n",
       "      <td>-41.768703</td>\n",
       "      <td>-1.458749</td>\n",
       "      <td>-10.668156</td>\n",
       "      <td>-28.250916</td>\n",
       "      <td>-1.996623</td>\n",
       "      <td>-7.960970</td>\n",
       "      <td>-16.239616</td>\n",
       "      <td>-3.517600</td>\n",
       "      <td>-17.073278</td>\n",
       "    </tr>\n",
       "    <tr>\n",
       "      <th>...</th>\n",
       "      <td>...</td>\n",
       "      <td>...</td>\n",
       "      <td>...</td>\n",
       "      <td>...</td>\n",
       "      <td>...</td>\n",
       "      <td>...</td>\n",
       "      <td>...</td>\n",
       "      <td>...</td>\n",
       "      <td>...</td>\n",
       "      <td>...</td>\n",
       "      <td>...</td>\n",
       "      <td>...</td>\n",
       "      <td>...</td>\n",
       "      <td>...</td>\n",
       "      <td>...</td>\n",
       "      <td>...</td>\n",
       "      <td>...</td>\n",
       "      <td>...</td>\n",
       "      <td>...</td>\n",
       "      <td>...</td>\n",
       "    </tr>\n",
       "    <tr>\n",
       "      <th>2995</th>\n",
       "      <td>-539.953735</td>\n",
       "      <td>227.801041</td>\n",
       "      <td>-66.478615</td>\n",
       "      <td>1.908442</td>\n",
       "      <td>16.775307</td>\n",
       "      <td>-36.352470</td>\n",
       "      <td>18.748755</td>\n",
       "      <td>1.454089</td>\n",
       "      <td>-40.820858</td>\n",
       "      <td>11.788944</td>\n",
       "      <td>10.374135</td>\n",
       "      <td>-23.454926</td>\n",
       "      <td>2.178336</td>\n",
       "      <td>0.333495</td>\n",
       "      <td>-16.196772</td>\n",
       "      <td>-3.123700</td>\n",
       "      <td>-9.697893</td>\n",
       "      <td>-11.340939</td>\n",
       "      <td>1.610538</td>\n",
       "      <td>-8.898899</td>\n",
       "    </tr>\n",
       "    <tr>\n",
       "      <th>2996</th>\n",
       "      <td>-491.344299</td>\n",
       "      <td>227.619583</td>\n",
       "      <td>-87.590607</td>\n",
       "      <td>2.129326</td>\n",
       "      <td>22.445152</td>\n",
       "      <td>-49.015450</td>\n",
       "      <td>13.958400</td>\n",
       "      <td>14.732166</td>\n",
       "      <td>-36.356777</td>\n",
       "      <td>4.801534</td>\n",
       "      <td>11.993781</td>\n",
       "      <td>-14.578753</td>\n",
       "      <td>5.613831</td>\n",
       "      <td>0.955333</td>\n",
       "      <td>-12.609158</td>\n",
       "      <td>-2.106348</td>\n",
       "      <td>-12.828856</td>\n",
       "      <td>-10.495636</td>\n",
       "      <td>5.215742</td>\n",
       "      <td>-9.894784</td>\n",
       "    </tr>\n",
       "    <tr>\n",
       "      <th>2997</th>\n",
       "      <td>-511.855133</td>\n",
       "      <td>214.749985</td>\n",
       "      <td>-75.395142</td>\n",
       "      <td>1.426343</td>\n",
       "      <td>20.796366</td>\n",
       "      <td>-40.226170</td>\n",
       "      <td>10.569022</td>\n",
       "      <td>4.748950</td>\n",
       "      <td>-33.262833</td>\n",
       "      <td>8.161093</td>\n",
       "      <td>6.611096</td>\n",
       "      <td>-17.942572</td>\n",
       "      <td>2.736619</td>\n",
       "      <td>-5.966835</td>\n",
       "      <td>-16.471325</td>\n",
       "      <td>-2.094696</td>\n",
       "      <td>-15.326060</td>\n",
       "      <td>-16.683109</td>\n",
       "      <td>-1.763444</td>\n",
       "      <td>-13.693180</td>\n",
       "    </tr>\n",
       "    <tr>\n",
       "      <th>2998</th>\n",
       "      <td>-559.762512</td>\n",
       "      <td>231.914139</td>\n",
       "      <td>-70.128494</td>\n",
       "      <td>8.296725</td>\n",
       "      <td>18.100630</td>\n",
       "      <td>-42.547340</td>\n",
       "      <td>19.210257</td>\n",
       "      <td>9.212729</td>\n",
       "      <td>-33.308395</td>\n",
       "      <td>10.835041</td>\n",
       "      <td>7.000213</td>\n",
       "      <td>-17.065546</td>\n",
       "      <td>7.002769</td>\n",
       "      <td>-3.895181</td>\n",
       "      <td>-14.850399</td>\n",
       "      <td>1.386613</td>\n",
       "      <td>-11.851810</td>\n",
       "      <td>-10.300099</td>\n",
       "      <td>6.005344</td>\n",
       "      <td>-9.889004</td>\n",
       "    </tr>\n",
       "    <tr>\n",
       "      <th>2999</th>\n",
       "      <td>-553.986816</td>\n",
       "      <td>235.320465</td>\n",
       "      <td>-67.915489</td>\n",
       "      <td>10.012416</td>\n",
       "      <td>20.706699</td>\n",
       "      <td>-41.679661</td>\n",
       "      <td>18.537888</td>\n",
       "      <td>8.392156</td>\n",
       "      <td>-34.662086</td>\n",
       "      <td>9.607769</td>\n",
       "      <td>5.865633</td>\n",
       "      <td>-18.515541</td>\n",
       "      <td>4.906856</td>\n",
       "      <td>-5.223548</td>\n",
       "      <td>-13.368548</td>\n",
       "      <td>1.882477</td>\n",
       "      <td>-13.833864</td>\n",
       "      <td>-9.865933</td>\n",
       "      <td>7.134007</td>\n",
       "      <td>-10.600046</td>\n",
       "    </tr>\n",
       "  </tbody>\n",
       "</table>\n",
       "<p>3000 rows × 20 columns</p>\n",
       "</div>"
      ],
      "text/plain": [
       "           mfcc0       mfcc1      mfcc2      mfcc3      mfcc4      mfcc5  \\\n",
       "0    -312.483826  157.413849 -83.389450  47.328335  47.099693 -55.105373   \n",
       "1    -379.066345  165.666901 -57.867474  22.860203  25.974346 -46.115276   \n",
       "2    -424.772461  127.852097 -53.795578  17.831009  26.846817 -34.200123   \n",
       "3    -389.584808  166.073517 -79.408005  25.375334  32.479534 -50.722202   \n",
       "4    -389.274689  169.632339 -77.210121  22.742558  36.415375 -46.292343   \n",
       "...          ...         ...        ...        ...        ...        ...   \n",
       "2995 -539.953735  227.801041 -66.478615   1.908442  16.775307 -36.352470   \n",
       "2996 -491.344299  227.619583 -87.590607   2.129326  22.445152 -49.015450   \n",
       "2997 -511.855133  214.749985 -75.395142   1.426343  20.796366 -40.226170   \n",
       "2998 -559.762512  231.914139 -70.128494   8.296725  18.100630 -42.547340   \n",
       "2999 -553.986816  235.320465 -67.915489  10.012416  20.706699 -41.679661   \n",
       "\n",
       "          mfcc6      mfcc7      mfcc8      mfcc9     mfcc10     mfcc11  \\\n",
       "0    -13.754276 -17.003675 -52.974422 -11.805694 -24.018995 -43.016975   \n",
       "1    -14.100521 -26.140167 -52.515862  -9.250536 -19.969303 -40.412582   \n",
       "2    -14.209099 -18.696369 -32.358147  -5.272920 -23.223995 -34.547401   \n",
       "3    -10.692026 -17.150023 -45.109356  -4.970866 -23.147619 -41.559254   \n",
       "4    -13.345025 -17.793606 -43.902256  -5.215960 -21.835735 -41.768703   \n",
       "...         ...        ...        ...        ...        ...        ...   \n",
       "2995  18.748755   1.454089 -40.820858  11.788944  10.374135 -23.454926   \n",
       "2996  13.958400  14.732166 -36.356777   4.801534  11.993781 -14.578753   \n",
       "2997  10.569022   4.748950 -33.262833   8.161093   6.611096 -17.942572   \n",
       "2998  19.210257   9.212729 -33.308395  10.835041   7.000213 -17.065546   \n",
       "2999  18.537888   8.392156 -34.662086   9.607769   5.865633 -18.515541   \n",
       "\n",
       "        mfcc12     mfcc13     mfcc14    mfcc15     mfcc16     mfcc17  \\\n",
       "0     2.110411  -6.013774 -28.540850 -3.117069  -5.603108 -13.659479   \n",
       "1    -2.325323  -6.705203 -25.866652 -7.142958 -10.470287 -16.260077   \n",
       "2    -1.589133 -11.633971 -23.948620 -0.723396  -4.458993 -10.715401   \n",
       "3    -0.668476 -12.243627 -26.992029  1.255178  -5.872051 -13.653750   \n",
       "4    -1.458749 -10.668156 -28.250916 -1.996623  -7.960970 -16.239616   \n",
       "...        ...        ...        ...       ...        ...        ...   \n",
       "2995  2.178336   0.333495 -16.196772 -3.123700  -9.697893 -11.340939   \n",
       "2996  5.613831   0.955333 -12.609158 -2.106348 -12.828856 -10.495636   \n",
       "2997  2.736619  -5.966835 -16.471325 -2.094696 -15.326060 -16.683109   \n",
       "2998  7.002769  -3.895181 -14.850399  1.386613 -11.851810 -10.300099   \n",
       "2999  4.906856  -5.223548 -13.368548  1.882477 -13.833864  -9.865933   \n",
       "\n",
       "        mfcc18     mfcc19  \n",
       "0    -2.320226 -12.169437  \n",
       "1    -5.955035 -14.368776  \n",
       "2    -1.525208 -11.829735  \n",
       "3    -2.406699 -15.252200  \n",
       "4    -3.517600 -17.073278  \n",
       "...        ...        ...  \n",
       "2995  1.610538  -8.898899  \n",
       "2996  5.215742  -9.894784  \n",
       "2997 -1.763444 -13.693180  \n",
       "2998  6.005344  -9.889004  \n",
       "2999  7.134007 -10.600046  \n",
       "\n",
       "[3000 rows x 20 columns]"
      ]
     },
     "execution_count": 17,
     "metadata": {},
     "output_type": "execute_result"
    }
   ],
   "source": [
    "df"
   ]
  },
  {
   "cell_type": "code",
   "execution_count": 20,
   "metadata": {},
   "outputs": [],
   "source": [
    "X = df"
   ]
  },
  {
   "cell_type": "code",
   "execution_count": 21,
   "metadata": {},
   "outputs": [],
   "source": [
    "gmm = GaussianMixture(n_components=6, max_iter=200, covariance_type='diag', n_init=3)"
   ]
  },
  {
   "cell_type": "code",
   "execution_count": 22,
   "metadata": {},
   "outputs": [
    {
     "data": {
      "text/plain": [
       "GaussianMixture(covariance_type='diag', max_iter=200, n_components=6, n_init=3)"
      ]
     },
     "execution_count": 22,
     "metadata": {},
     "output_type": "execute_result"
    }
   ],
   "source": [
    "gmm.fit(X)"
   ]
  },
  {
   "cell_type": "code",
   "execution_count": 23,
   "metadata": {},
   "outputs": [],
   "source": [
    "pred_gmm = gmm.predict(X)"
   ]
  },
  {
   "cell_type": "markdown",
   "metadata": {},
   "source": [
    "https://towardsdatascience.com/a-simple-introduction-to-gaussian-mixture-model-gmm-f9fe501eef99"
   ]
  },
  {
   "cell_type": "code",
   "execution_count": 98,
   "metadata": {},
   "outputs": [],
   "source": [
    "#RocCurveDisplay.from_predictions(y_test, pred_gmm)"
   ]
  },
  {
   "cell_type": "code",
   "execution_count": 99,
   "metadata": {},
   "outputs": [],
   "source": [
    "df['gmm_cluster'] = pred_gmm\n",
    "df['name'] = df_names"
   ]
  },
  {
   "cell_type": "code",
   "execution_count": 100,
   "metadata": {},
   "outputs": [],
   "source": [
    "df_check = df.iloc[:,-2:]"
   ]
  },
  {
   "cell_type": "code",
   "execution_count": 101,
   "metadata": {},
   "outputs": [
    {
     "data": {
      "text/html": [
       "<div>\n",
       "<style scoped>\n",
       "    .dataframe tbody tr th:only-of-type {\n",
       "        vertical-align: middle;\n",
       "    }\n",
       "\n",
       "    .dataframe tbody tr th {\n",
       "        vertical-align: top;\n",
       "    }\n",
       "\n",
       "    .dataframe thead th {\n",
       "        text-align: right;\n",
       "    }\n",
       "</style>\n",
       "<table border=\"1\" class=\"dataframe\">\n",
       "  <thead>\n",
       "    <tr style=\"text-align: right;\">\n",
       "      <th></th>\n",
       "      <th>gmm_cluster</th>\n",
       "      <th>name</th>\n",
       "    </tr>\n",
       "  </thead>\n",
       "  <tbody>\n",
       "    <tr>\n",
       "      <th>0</th>\n",
       "      <td>4</td>\n",
       "      <td>george</td>\n",
       "    </tr>\n",
       "    <tr>\n",
       "      <th>1</th>\n",
       "      <td>4</td>\n",
       "      <td>george</td>\n",
       "    </tr>\n",
       "    <tr>\n",
       "      <th>2</th>\n",
       "      <td>4</td>\n",
       "      <td>george</td>\n",
       "    </tr>\n",
       "    <tr>\n",
       "      <th>3</th>\n",
       "      <td>4</td>\n",
       "      <td>george</td>\n",
       "    </tr>\n",
       "    <tr>\n",
       "      <th>4</th>\n",
       "      <td>4</td>\n",
       "      <td>george</td>\n",
       "    </tr>\n",
       "    <tr>\n",
       "      <th>...</th>\n",
       "      <td>...</td>\n",
       "      <td>...</td>\n",
       "    </tr>\n",
       "    <tr>\n",
       "      <th>2995</th>\n",
       "      <td>5</td>\n",
       "      <td>yweweler</td>\n",
       "    </tr>\n",
       "    <tr>\n",
       "      <th>2996</th>\n",
       "      <td>5</td>\n",
       "      <td>yweweler</td>\n",
       "    </tr>\n",
       "    <tr>\n",
       "      <th>2997</th>\n",
       "      <td>1</td>\n",
       "      <td>yweweler</td>\n",
       "    </tr>\n",
       "    <tr>\n",
       "      <th>2998</th>\n",
       "      <td>5</td>\n",
       "      <td>yweweler</td>\n",
       "    </tr>\n",
       "    <tr>\n",
       "      <th>2999</th>\n",
       "      <td>5</td>\n",
       "      <td>yweweler</td>\n",
       "    </tr>\n",
       "  </tbody>\n",
       "</table>\n",
       "<p>3000 rows × 2 columns</p>\n",
       "</div>"
      ],
      "text/plain": [
       "      gmm_cluster      name\n",
       "0               4    george\n",
       "1               4    george\n",
       "2               4    george\n",
       "3               4    george\n",
       "4               4    george\n",
       "...           ...       ...\n",
       "2995            5  yweweler\n",
       "2996            5  yweweler\n",
       "2997            1  yweweler\n",
       "2998            5  yweweler\n",
       "2999            5  yweweler\n",
       "\n",
       "[3000 rows x 2 columns]"
      ]
     },
     "execution_count": 101,
     "metadata": {},
     "output_type": "execute_result"
    }
   ],
   "source": [
    "df_check"
   ]
  },
  {
   "cell_type": "code",
   "execution_count": 102,
   "metadata": {},
   "outputs": [
    {
     "name": "stdout",
     "output_type": "stream",
     "text": [
      "495\n",
      "451\n",
      "457\n",
      "598\n",
      "489\n",
      "510\n"
     ]
    }
   ],
   "source": [
    "print(df_check['gmm_cluster'].value_counts()[0])\n",
    "print(df_check['gmm_cluster'].value_counts()[1])\n",
    "print(df_check['gmm_cluster'].value_counts()[2])\n",
    "print(df_check['gmm_cluster'].value_counts()[3])\n",
    "print(df_check['gmm_cluster'].value_counts()[4])\n",
    "print(df_check['gmm_cluster'].value_counts()[5])\n"
   ]
  },
  {
   "cell_type": "code",
   "execution_count": 103,
   "metadata": {},
   "outputs": [
    {
     "data": {
      "text/plain": [
       "gmm_cluster  name    \n",
       "0            lucas       491\n",
       "             yweweler      3\n",
       "             nicolas       1\n",
       "1            theo        441\n",
       "             yweweler     10\n",
       "2            nicolas     454\n",
       "             lucas         3\n",
       "3            jackson     500\n",
       "             nicolas      45\n",
       "             theo         39\n",
       "             george       11\n",
       "             lucas         3\n",
       "4            george      489\n",
       "5            yweweler    487\n",
       "             theo         20\n",
       "             lucas         3\n",
       "Name: name, dtype: int64"
      ]
     },
     "execution_count": 103,
     "metadata": {},
     "output_type": "execute_result"
    }
   ],
   "source": [
    "df_check.groupby('gmm_cluster')['name'].value_counts()\n",
    "\n",
    "## clase Alberto y Paula, utilizar logistic regression. es George?\n",
    "# liner regresion + escalado (polinomial)"
   ]
  },
  {
   "cell_type": "code",
   "execution_count": 89,
   "metadata": {},
   "outputs": [
    {
     "data": {
      "text/plain": [
       "gmm_cluster\n",
       "0    3\n",
       "1    2\n",
       "2    2\n",
       "3    5\n",
       "4    1\n",
       "5    3\n",
       "Name: name, dtype: int64"
      ]
     },
     "execution_count": 89,
     "metadata": {},
     "output_type": "execute_result"
    }
   ],
   "source": [
    "df_check.groupby('gmm_cluster')['name'].nunique()"
   ]
  },
  {
   "cell_type": "code",
   "execution_count": 34,
   "metadata": {},
   "outputs": [
    {
     "data": {
      "text/plain": [
       "0       False\n",
       "1       False\n",
       "2       False\n",
       "3       False\n",
       "4       False\n",
       "        ...  \n",
       "2995    False\n",
       "2996    False\n",
       "2997    False\n",
       "2998    False\n",
       "2999    False\n",
       "Name: gmm_cluster, Length: 3000, dtype: bool"
      ]
     },
     "execution_count": 34,
     "metadata": {},
     "output_type": "execute_result"
    }
   ],
   "source": [
    "df_check['gmm_cluster'] == 'yweweler'"
   ]
  },
  {
   "cell_type": "code",
   "execution_count": null,
   "metadata": {},
   "outputs": [],
   "source": []
  },
  {
   "cell_type": "code",
   "execution_count": null,
   "metadata": {},
   "outputs": [],
   "source": []
  },
  {
   "cell_type": "code",
   "execution_count": 44,
   "metadata": {},
   "outputs": [
    {
     "data": {
      "text/plain": [
       "<AxesSubplot:xlabel='gmm_cluster', ylabel='name'>"
      ]
     },
     "execution_count": 44,
     "metadata": {},
     "output_type": "execute_result"
    },
    {
     "data": {
      "image/png": "[encoded data removed]",
      "text/plain": [
       "<Figure size 432x288 with 1 Axes>"
      ]
     },
     "metadata": {
      "needs_background": "light"
     },
     "output_type": "display_data"
    }
   ],
   "source": [
    "sns.scatterplot(data=df_check, y='name', x='gmm_cluster')"
   ]
  },
  {
   "cell_type": "code",
   "execution_count": 51,
   "metadata": {},
   "outputs": [
    {
     "data": {
      "text/plain": [
       "<AxesSubplot:xlabel='name', ylabel='gmm_cluster'>"
      ]
     },
     "execution_count": 51,
     "metadata": {},
     "output_type": "execute_result"
    },
    {
     "data": {
      "image/png": "[encoded data removed]",
      "text/plain": [
       "<Figure size 432x288 with 1 Axes>"
      ]
     },
     "metadata": {
      "needs_background": "light"
     },
     "output_type": "display_data"
    }
   ],
   "source": [
    "sns.scatterplot(data=df_check, x='name', y='gmm_cluster', size='name', legend=False, sizes=(20, 2000), hue='gmm_cluster')\n"
   ]
  },
  {
   "cell_type": "code",
   "execution_count": null,
   "metadata": {},
   "outputs": [],
   "source": []
  }
 ],
 "metadata": {
  "interpreter": {
   "hash": "a0be7f60f539fb4a1d9d893164dfd5a3ed5aec8f3b3ff9d325628148abf9e143"
  },
  "kernelspec": {
   "display_name": "Python 3.8.12 ('base')",
   "language": "python",
   "name": "python3"
  },
  "language_info": {
   "codemirror_mode": {
    "name": "ipython",
    "version": 3
   },
   "file_extension": ".py",
   "mimetype": "text/x-python",
   "name": "python",
   "nbconvert_exporter": "python",
   "pygments_lexer": "ipython3",
   "version": "3.9.6"
  },
  "orig_nbformat": 4
 },
 "nbformat": 4,
 "nbformat_minor": 2
}
