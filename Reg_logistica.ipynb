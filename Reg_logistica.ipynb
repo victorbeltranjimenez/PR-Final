{
 "cells": [
  {
   "cell_type": "code",
   "execution_count": 2,
   "metadata": {},
   "outputs": [],
   "source": [
    "# Tratamiento de datos\n",
    "# ==============================================================================\n",
    "import pandas as pd\n",
    "import numpy as np\n",
    "\n",
    "# Gráficos\n",
    "# ==============================================================================\n",
    "import matplotlib.pyplot as plt\n",
    "from matplotlib import style\n",
    "import seaborn as sns\n",
    "\n",
    "# Preprocesado y modelado\n",
    "# ==============================================================================\n",
    "from sklearn.linear_model import LogisticRegression\n",
    "from sklearn.model_selection import train_test_split\n",
    "from sklearn.metrics import accuracy_score\n",
    "import statsmodels.api as sm\n",
    "import statsmodels.formula.api as smf\n",
    "from statsmodels.stats.weightstats import ttest_ind\n",
    "\n",
    "# Configuración matplotlib\n",
    "# ==============================================================================\n",
    "plt.rcParams['image.cmap'] = \"bwr\"\n",
    "#plt.rcParams['figure.dpi'] = \"100\"\n",
    "plt.rcParams['savefig.bbox'] = \"tight\"\n",
    "style.use('ggplot') or plt.style.use('ggplot')\n",
    "\n",
    "# Configuración warnings\n",
    "# ==============================================================================\n",
    "import warnings\n",
    "warnings.filterwarnings('ignore')"
   ]
  },
  {
   "cell_type": "code",
   "execution_count": 3,
   "metadata": {},
   "outputs": [],
   "source": [
    "df = pd.read_csv('to_train.csv')"
   ]
  },
  {
   "cell_type": "code",
   "execution_count": 4,
   "metadata": {},
   "outputs": [],
   "source": [
    "#df_george = df.loc[df['name'] == 'george']\n",
    "#df_george.shape"
   ]
  },
  {
   "cell_type": "code",
   "execution_count": 5,
   "metadata": {},
   "outputs": [],
   "source": [
    "df['name'] = np.where(df['name'] == 'george', 1, 0)"
   ]
  },
  {
   "cell_type": "code",
   "execution_count": 6,
   "metadata": {},
   "outputs": [
    {
     "name": "stdout",
     "output_type": "stream",
     "text": [
      "Número de observaciones por clase\n",
      "0    2500\n",
      "1     500\n",
      "Name: name, dtype: int64\n",
      "\n",
      "Porcentaje de observaciones por clase\n",
      "0    83.333333\n",
      "1    16.666667\n",
      "Name: name, dtype: float64\n"
     ]
    }
   ],
   "source": [
    "print(\"Número de observaciones por clase\")\n",
    "print(df['name'].value_counts())\n",
    "print(\"\")\n",
    "\n",
    "print(\"Porcentaje de observaciones por clase\")\n",
    "print(100 * df['name'].value_counts(normalize=True))"
   ]
  },
  {
   "cell_type": "code",
   "execution_count": 7,
   "metadata": {},
   "outputs": [],
   "source": [
    "# División de los datos en train y test\n",
    "# ==============================================================================\n",
    "X = df.drop(columns = 'name')\n",
    "y = df['name']\n",
    "\n",
    "X_train, X_test, y_train, y_test = train_test_split(\n",
    "                                        X,\n",
    "                                        y,\n",
    "                                        train_size   = 0.8,\n",
    "                                        random_state = 34,\n",
    "                                        shuffle      = True\n",
    "                                    )"
   ]
  },
  {
   "cell_type": "code",
   "execution_count": 8,
   "metadata": {},
   "outputs": [],
   "source": [
    "#división 2\n",
    "X = df.drop(columns = 'name')\n",
    "y = df['name']\n",
    "from sklearn.model_selection import train_test_split\n",
    "X_train, X_test, y_train, y_test = train_test_split(X, y, test_size = 0.2, random_state=5)"
   ]
  },
  {
   "cell_type": "code",
   "execution_count": 10,
   "metadata": {},
   "outputs": [],
   "source": [
    "from sklearn.linear_model import LinearRegression, ElasticNet, Lasso, Ridge"
   ]
  },
  {
   "cell_type": "code",
   "execution_count": 11,
   "metadata": {},
   "outputs": [
    {
     "data": {
      "text/plain": [
       "0.7960561773925419"
      ]
     },
     "execution_count": 11,
     "metadata": {},
     "output_type": "execute_result"
    }
   ],
   "source": [
    "model = ElasticNet()\n",
    "model.fit(X_train, y_train)\n",
    "model.score(X_test, y_test)"
   ]
  },
  {
   "cell_type": "code",
   "execution_count": 12,
   "metadata": {},
   "outputs": [
    {
     "name": "stdout",
     "output_type": "stream",
     "text": [
      "0.6840669526352189\n"
     ]
    },
    {
     "data": {
      "text/plain": [
       "array([ 0.00066577, -0.00295913, -0.00358833, -0.00330744, -0.        ,\n",
       "       -0.        , -0.        , -0.        , -0.0014529 , -0.        ,\n",
       "       -0.        , -0.0087617 , -0.        , -0.        , -0.00303208,\n",
       "       -0.        , -0.        , -0.        , -0.        , -0.        ])"
      ]
     },
     "execution_count": 12,
     "metadata": {},
     "output_type": "execute_result"
    }
   ],
   "source": [
    "model = Lasso()\n",
    "model.fit(X_train, y_train)\n",
    "print(model.score(X_test, y_test))\n",
    "model.coef_"
   ]
  },
  {
   "cell_type": "code",
   "execution_count": 13,
   "metadata": {},
   "outputs": [
    {
     "name": "stdout",
     "output_type": "stream",
     "text": [
      "0.8824900860215852\n"
     ]
    },
    {
     "data": {
      "text/plain": [
       "array([ 6.35276757e-05, -1.31296884e-03, -1.05747750e-02,  9.64811249e-03,\n",
       "       -1.91215636e-02,  2.16300766e-02, -3.25295928e-02,  3.86865496e-02,\n",
       "       -5.84034143e-02,  5.94199882e-02, -5.84922431e-02,  3.99448094e-02,\n",
       "       -2.33861621e-02, -1.23900665e-02,  3.01631804e-02, -5.80107761e-02,\n",
       "        5.84992767e-02, -4.96347827e-02,  1.56806033e-02, -1.03724726e-02])"
      ]
     },
     "execution_count": 13,
     "metadata": {},
     "output_type": "execute_result"
    }
   ],
   "source": [
    "model = Ridge()\n",
    "model.fit(X_train, y_train)\n",
    "print(model.score(X_test, y_test))\n",
    "model.coef_"
   ]
  },
  {
   "cell_type": "code",
   "execution_count": 16,
   "metadata": {},
   "outputs": [
    {
     "name": "stdout",
     "output_type": "stream",
     "text": [
      "0.8826437128787004\n"
     ]
    },
    {
     "data": {
      "text/plain": [
       "array([ 6.10152649e-05, -1.33055567e-03, -1.06076953e-02,  1.00591198e-02,\n",
       "       -2.06152367e-02,  2.52193892e-02, -3.93272032e-02,  4.94707420e-02,\n",
       "       -7.33281363e-02,  7.77525510e-02, -7.86042318e-02,  5.97071767e-02,\n",
       "       -4.07679414e-02,  1.13423429e-03,  2.10257855e-02, -5.28415082e-02,\n",
       "        5.62203112e-02, -4.90430746e-02,  1.57714779e-02, -1.05609793e-02])"
      ]
     },
     "execution_count": 16,
     "metadata": {},
     "output_type": "execute_result"
    }
   ],
   "source": [
    "model = LinearRegression()\n",
    "model.fit(X_train, y_train)\n",
    "print(model.score(X_test, y_test))\n",
    "model.coef_"
   ]
  },
  {
   "cell_type": "code",
   "execution_count": null,
   "metadata": {},
   "outputs": [],
   "source": []
  },
  {
   "cell_type": "code",
   "execution_count": 56,
   "id": "cca48bd0",
   "metadata": {},
   "outputs": [],
   "source": [
    "model = LogisticRegression(max_iter=1000)"
   ]
  },
  {
   "cell_type": "code",
   "execution_count": 18,
   "id": "bd1cbf15",
   "metadata": {},
   "outputs": [
    {
     "data": {
      "text/plain": [
       "LogisticRegression(max_iter=1000)"
      ]
     },
     "execution_count": 18,
     "metadata": {},
     "output_type": "execute_result"
    }
   ],
   "source": [
    "model.fit(X_train, y_train)"
   ]
  },
  {
   "cell_type": "code",
   "execution_count": 19,
   "id": "2e3588de",
   "metadata": {},
   "outputs": [
    {
     "data": {
      "text/plain": [
       "0.9983333333333333"
      ]
     },
     "execution_count": 19,
     "metadata": {},
     "output_type": "execute_result"
    }
   ],
   "source": [
    "model.score(X_test, y_test)"
   ]
  },
  {
   "cell_type": "code",
   "execution_count": 20,
   "id": "c7102d26",
   "metadata": {},
   "outputs": [
    {
     "data": {
      "text/plain": [
       "<AxesSubplot:xlabel='name', ylabel='count'>"
      ]
     },
     "execution_count": 20,
     "metadata": {},
     "output_type": "execute_result"
    },
    {
     "data": {
      "image/png": "[encoded data removed]",
      "text/plain": [
       "<Figure size 432x288 with 1 Axes>"
      ]
     },
     "metadata": {},
     "output_type": "display_data"
    }
   ],
   "source": [
    "sns.countplot(y)"
   ]
  },
  {
   "cell_type": "code",
   "execution_count": 21,
   "id": "e117da26",
   "metadata": {},
   "outputs": [
    {
     "data": {
      "text/plain": [
       "0.8333333333333334"
      ]
     },
     "execution_count": 21,
     "metadata": {},
     "output_type": "execute_result"
    }
   ],
   "source": [
    "1 - sum(y) / len(y)"
   ]
  },
  {
   "cell_type": "code",
   "execution_count": 22,
   "id": "cb0ae65a",
   "metadata": {},
   "outputs": [],
   "source": [
    "y_pred = model.predict(X_test)"
   ]
  },
  {
   "cell_type": "code",
   "execution_count": 23,
   "id": "e267eace",
   "metadata": {},
   "outputs": [
    {
     "data": {
      "text/plain": [
       "array([0, 0, 0, 0, 0, 0, 0, 1, 0, 0, 0, 1, 0, 1, 1, 0, 1, 0, 0, 0, 0, 0,\n",
       "       1, 0, 0, 0, 0, 0, 0, 0, 0, 0, 0, 0, 0, 1, 0, 0, 1, 0, 0, 0, 1, 0,\n",
       "       0, 0, 0, 0, 0, 0, 0, 0, 0, 0, 0, 0, 1, 0, 1, 0, 0, 0, 0, 0, 0, 0,\n",
       "       1, 1, 0, 0, 0, 0, 0, 0, 0, 0, 0, 1, 0, 0, 0, 0, 0, 0, 0, 1, 0, 0,\n",
       "       0, 0, 0, 1, 0, 0, 0, 0, 0, 0, 0, 0, 0, 0, 1, 0, 0, 0, 0, 0, 0, 0,\n",
       "       0, 0, 0, 1, 0, 0, 0, 0, 0, 0, 0, 0, 0, 0, 0, 1, 0, 1, 0, 0, 0, 0,\n",
       "       0, 0, 0, 0, 0, 0, 0, 0, 0, 0, 0, 0, 0, 0, 0, 0, 0, 0, 1, 0, 0, 0,\n",
       "       0, 0, 0, 1, 0, 0, 1, 0, 0, 0, 0, 0, 1, 0, 0, 0, 1, 0, 0, 0, 1, 0,\n",
       "       0, 1, 0, 0, 0, 0, 0, 0, 0, 1, 0, 0, 0, 0, 0, 0, 0, 0, 0, 0, 0, 0,\n",
       "       0, 1, 0, 0, 0, 0, 0, 0, 1, 0, 1, 1, 0, 1, 0, 0, 0, 1, 0, 0, 0, 0,\n",
       "       0, 1, 0, 0, 1, 0, 0, 0, 0, 0, 0, 1, 0, 1, 0, 0, 0, 1, 0, 1, 0, 0,\n",
       "       0, 0, 0, 0, 0, 1, 0, 0, 0, 0, 0, 0, 0, 0, 0, 0, 0, 0, 0, 0, 0, 0,\n",
       "       0, 0, 0, 0, 1, 0, 0, 0, 0, 0, 0, 0, 0, 0, 0, 0, 1, 0, 0, 0, 0, 0,\n",
       "       0, 0, 0, 0, 0, 0, 1, 0, 0, 0, 0, 0, 0, 0, 0, 0, 0, 0, 1, 1, 0, 0,\n",
       "       0, 0, 0, 0, 0, 1, 0, 0, 0, 0, 0, 0, 0, 1, 0, 0, 0, 0, 0, 0, 0, 0,\n",
       "       0, 0, 0, 0, 0, 0, 0, 0, 0, 0, 0, 0, 0, 0, 0, 1, 0, 0, 1, 0, 0, 0,\n",
       "       1, 0, 0, 0, 0, 0, 1, 0, 0, 0, 0, 0, 0, 1, 0, 0, 1, 0, 1, 0, 0, 0,\n",
       "       0, 0, 0, 0, 0, 0, 0, 0, 0, 0, 0, 1, 0, 0, 0, 0, 0, 0, 0, 0, 1, 0,\n",
       "       0, 0, 0, 0, 0, 0, 0, 0, 0, 0, 0, 1, 0, 0, 0, 1, 0, 0, 0, 1, 0, 0,\n",
       "       0, 0, 0, 0, 0, 0, 0, 0, 1, 0, 1, 1, 0, 0, 1, 0, 0, 0, 1, 0, 0, 0,\n",
       "       0, 0, 0, 0, 0, 0, 0, 0, 1, 0, 0, 0, 1, 0, 0, 0, 0, 0, 0, 0, 0, 0,\n",
       "       1, 0, 1, 0, 0, 1, 0, 0, 0, 1, 0, 1, 0, 0, 0, 1, 1, 0, 0, 0, 0, 0,\n",
       "       0, 0, 1, 0, 0, 0, 0, 0, 1, 0, 0, 0, 0, 0, 0, 0, 0, 1, 0, 0, 0, 0,\n",
       "       0, 0, 0, 0, 1, 0, 0, 0, 0, 0, 0, 0, 0, 0, 0, 0, 1, 0, 0, 0, 0, 0,\n",
       "       0, 0, 1, 0, 1, 0, 0, 0, 0, 0, 0, 1, 0, 0, 0, 1, 0, 0, 0, 0, 0, 0,\n",
       "       0, 0, 0, 0, 0, 0, 0, 0, 0, 0, 0, 0, 0, 0, 0, 0, 0, 0, 0, 0, 0, 1,\n",
       "       0, 0, 0, 0, 0, 0, 0, 0, 0, 0, 0, 0, 0, 0, 0, 0, 0, 0, 0, 1, 0, 0,\n",
       "       0, 0, 0, 0, 0, 0])"
      ]
     },
     "execution_count": 23,
     "metadata": {},
     "output_type": "execute_result"
    }
   ],
   "source": [
    "y_pred"
   ]
  },
  {
   "cell_type": "code",
   "execution_count": 24,
   "id": "cf68b39b",
   "metadata": {},
   "outputs": [
    {
     "data": {
      "text/plain": [
       "2899    0\n",
       "2670    0\n",
       "2774    0\n",
       "1699    0\n",
       "1933    0\n",
       "       ..\n",
       "2395    0\n",
       "1634    0\n",
       "543     0\n",
       "2671    0\n",
       "131     0\n",
       "Name: name, Length: 600, dtype: int32"
      ]
     },
     "execution_count": 24,
     "metadata": {},
     "output_type": "execute_result"
    }
   ],
   "source": [
    "y_test"
   ]
  },
  {
   "cell_type": "code",
   "execution_count": 25,
   "id": "8897feb6",
   "metadata": {},
   "outputs": [],
   "source": [
    "from sklearn.metrics import confusion_matrix, f1_score, recall_score, precision_score"
   ]
  },
  {
   "cell_type": "code",
   "execution_count": 26,
   "id": "4251a5ba",
   "metadata": {},
   "outputs": [
    {
     "data": {
      "text/plain": [
       "1.0"
      ]
     },
     "execution_count": 26,
     "metadata": {},
     "output_type": "execute_result"
    }
   ],
   "source": [
    "precision_score(y_test, y_pred)"
   ]
  },
  {
   "cell_type": "code",
   "execution_count": 27,
   "id": "71009005",
   "metadata": {},
   "outputs": [
    {
     "data": {
      "text/plain": [
       "0.9883720930232558"
      ]
     },
     "execution_count": 27,
     "metadata": {},
     "output_type": "execute_result"
    }
   ],
   "source": [
    "recall_score(y_test, y_pred)"
   ]
  },
  {
   "cell_type": "code",
   "execution_count": 28,
   "id": "4cb746ef",
   "metadata": {},
   "outputs": [
    {
     "data": {
      "text/plain": [
       "0.9941520467836257"
      ]
     },
     "execution_count": 28,
     "metadata": {},
     "output_type": "execute_result"
    }
   ],
   "source": [
    "f1_score(y_test, y_pred)"
   ]
  },
  {
   "cell_type": "code",
   "execution_count": 29,
   "id": "09137fc8",
   "metadata": {},
   "outputs": [
    {
     "data": {
      "text/plain": [
       "86"
      ]
     },
     "execution_count": 29,
     "metadata": {},
     "output_type": "execute_result"
    }
   ],
   "source": [
    "sum(y_test)"
   ]
  },
  {
   "cell_type": "code",
   "execution_count": 30,
   "id": "7c753543",
   "metadata": {},
   "outputs": [
    {
     "data": {
      "text/plain": [
       "array([[514,   0],\n",
       "       [  1,  85]], dtype=int64)"
      ]
     },
     "execution_count": 30,
     "metadata": {},
     "output_type": "execute_result"
    }
   ],
   "source": [
    "confusion_matrix(y_test, y_pred)"
   ]
  },
  {
   "cell_type": "code",
   "execution_count": 31,
   "id": "aee26127",
   "metadata": {},
   "outputs": [
    {
     "data": {
      "text/plain": [
       "<AxesSubplot:>"
      ]
     },
     "execution_count": 31,
     "metadata": {},
     "output_type": "execute_result"
    },
    {
     "data": {
      "image/png": "[encoded data removed]",
      "text/plain": [
       "<Figure size 432x288 with 2 Axes>"
      ]
     },
     "metadata": {},
     "output_type": "display_data"
    }
   ],
   "source": [
    "sns.heatmap(confusion_matrix(y_test, y_pred), annot=True)"
   ]
  },
  {
   "cell_type": "code",
   "execution_count": 32,
   "id": "e58f0a29",
   "metadata": {},
   "outputs": [
    {
     "data": {
      "text/plain": [
       "array([[-0.01513764, -0.06288943, -0.13068272, -0.07367746, -0.15437476,\n",
       "        -0.1027625 , -0.09591031, -0.19552916, -0.25048312, -0.12703731,\n",
       "        -0.12585365, -0.26018817, -0.14788038, -0.1207081 , -0.33099626,\n",
       "        -0.15091227,  0.10648747, -0.09256516, -0.13638998,  0.0540971 ]])"
      ]
     },
     "execution_count": 32,
     "metadata": {},
     "output_type": "execute_result"
    }
   ],
   "source": [
    "model.coef_"
   ]
  },
  {
   "cell_type": "code",
   "execution_count": 33,
   "id": "8bf849c5",
   "metadata": {},
   "outputs": [],
   "source": [
    "from sklearn.metrics import classification_report"
   ]
  },
  {
   "cell_type": "code",
   "execution_count": 34,
   "id": "dc72af7e",
   "metadata": {},
   "outputs": [
    {
     "name": "stdout",
     "output_type": "stream",
     "text": [
      "              precision    recall  f1-score   support\n",
      "\n",
      "           0       1.00      1.00      1.00       514\n",
      "           1       1.00      0.99      0.99        86\n",
      "\n",
      "    accuracy                           1.00       600\n",
      "   macro avg       1.00      0.99      1.00       600\n",
      "weighted avg       1.00      1.00      1.00       600\n",
      "\n"
     ]
    }
   ],
   "source": [
    "print(classification_report(y_test, y_pred))"
   ]
  },
  {
   "cell_type": "code",
   "execution_count": 35,
   "id": "ef8ccd96",
   "metadata": {},
   "outputs": [],
   "source": [
    "from sklearn.metrics import auc, roc_curve"
   ]
  },
  {
   "cell_type": "code",
   "execution_count": 36,
   "id": "dc5429ab",
   "metadata": {},
   "outputs": [],
   "source": [
    "p = model.predict_proba(X_test)"
   ]
  },
  {
   "cell_type": "code",
   "execution_count": 37,
   "metadata": {},
   "outputs": [
    {
     "data": {
      "text/html": [
       "<div>\n",
       "<style scoped>\n",
       "    .dataframe tbody tr th:only-of-type {\n",
       "        vertical-align: middle;\n",
       "    }\n",
       "\n",
       "    .dataframe tbody tr th {\n",
       "        vertical-align: top;\n",
       "    }\n",
       "\n",
       "    .dataframe thead th {\n",
       "        text-align: right;\n",
       "    }\n",
       "</style>\n",
       "<table border=\"1\" class=\"dataframe\">\n",
       "  <thead>\n",
       "    <tr style=\"text-align: right;\">\n",
       "      <th></th>\n",
       "      <th>mfcc0</th>\n",
       "      <th>mfcc1</th>\n",
       "      <th>mfcc2</th>\n",
       "      <th>mfcc3</th>\n",
       "      <th>mfcc4</th>\n",
       "      <th>mfcc5</th>\n",
       "      <th>mfcc6</th>\n",
       "      <th>mfcc7</th>\n",
       "      <th>mfcc8</th>\n",
       "      <th>mfcc9</th>\n",
       "      <th>mfcc10</th>\n",
       "      <th>mfcc11</th>\n",
       "      <th>mfcc12</th>\n",
       "      <th>mfcc13</th>\n",
       "      <th>mfcc14</th>\n",
       "      <th>mfcc15</th>\n",
       "      <th>mfcc16</th>\n",
       "      <th>mfcc17</th>\n",
       "      <th>mfcc18</th>\n",
       "      <th>mfcc19</th>\n",
       "    </tr>\n",
       "  </thead>\n",
       "  <tbody>\n",
       "    <tr>\n",
       "      <th>2899</th>\n",
       "      <td>-361.185608</td>\n",
       "      <td>224.099640</td>\n",
       "      <td>-74.386124</td>\n",
       "      <td>26.900375</td>\n",
       "      <td>35.477524</td>\n",
       "      <td>-32.615807</td>\n",
       "      <td>16.610027</td>\n",
       "      <td>-3.992146</td>\n",
       "      <td>-31.784626</td>\n",
       "      <td>20.127375</td>\n",
       "      <td>0.670310</td>\n",
       "      <td>-22.105301</td>\n",
       "      <td>9.740358</td>\n",
       "      <td>-7.090157</td>\n",
       "      <td>-12.183558</td>\n",
       "      <td>12.488370</td>\n",
       "      <td>-5.912700</td>\n",
       "      <td>-6.787135</td>\n",
       "      <td>7.652180</td>\n",
       "      <td>-9.638283</td>\n",
       "    </tr>\n",
       "    <tr>\n",
       "      <th>2670</th>\n",
       "      <td>-445.646210</td>\n",
       "      <td>154.228531</td>\n",
       "      <td>-70.482491</td>\n",
       "      <td>46.975178</td>\n",
       "      <td>43.883823</td>\n",
       "      <td>-62.140144</td>\n",
       "      <td>-13.252985</td>\n",
       "      <td>6.204161</td>\n",
       "      <td>-32.171612</td>\n",
       "      <td>-6.321438</td>\n",
       "      <td>-8.566392</td>\n",
       "      <td>-23.356506</td>\n",
       "      <td>7.462023</td>\n",
       "      <td>1.519496</td>\n",
       "      <td>-13.174471</td>\n",
       "      <td>5.318227</td>\n",
       "      <td>0.493516</td>\n",
       "      <td>-3.060100</td>\n",
       "      <td>5.915523</td>\n",
       "      <td>-8.278802</td>\n",
       "    </tr>\n",
       "    <tr>\n",
       "      <th>2774</th>\n",
       "      <td>-319.585663</td>\n",
       "      <td>205.282486</td>\n",
       "      <td>-59.729504</td>\n",
       "      <td>31.432556</td>\n",
       "      <td>37.428776</td>\n",
       "      <td>-34.827110</td>\n",
       "      <td>8.720160</td>\n",
       "      <td>-3.704654</td>\n",
       "      <td>-36.813175</td>\n",
       "      <td>0.970823</td>\n",
       "      <td>-3.782102</td>\n",
       "      <td>-16.176172</td>\n",
       "      <td>-2.676745</td>\n",
       "      <td>-20.364717</td>\n",
       "      <td>-14.352981</td>\n",
       "      <td>-0.924778</td>\n",
       "      <td>-22.073835</td>\n",
       "      <td>-9.298434</td>\n",
       "      <td>1.781609</td>\n",
       "      <td>-21.839695</td>\n",
       "    </tr>\n",
       "    <tr>\n",
       "      <th>1699</th>\n",
       "      <td>-323.658569</td>\n",
       "      <td>229.948303</td>\n",
       "      <td>-75.988762</td>\n",
       "      <td>14.471116</td>\n",
       "      <td>12.468710</td>\n",
       "      <td>-51.622307</td>\n",
       "      <td>19.409571</td>\n",
       "      <td>3.076319</td>\n",
       "      <td>-35.856956</td>\n",
       "      <td>12.524756</td>\n",
       "      <td>-2.023012</td>\n",
       "      <td>-17.673622</td>\n",
       "      <td>14.016465</td>\n",
       "      <td>-8.062601</td>\n",
       "      <td>-13.599543</td>\n",
       "      <td>9.859485</td>\n",
       "      <td>-8.823350</td>\n",
       "      <td>-3.717883</td>\n",
       "      <td>11.254442</td>\n",
       "      <td>-10.347220</td>\n",
       "    </tr>\n",
       "    <tr>\n",
       "      <th>1933</th>\n",
       "      <td>-390.043213</td>\n",
       "      <td>164.564713</td>\n",
       "      <td>-85.671143</td>\n",
       "      <td>32.009109</td>\n",
       "      <td>50.535133</td>\n",
       "      <td>-40.572746</td>\n",
       "      <td>1.115468</td>\n",
       "      <td>8.565308</td>\n",
       "      <td>-27.554832</td>\n",
       "      <td>6.965716</td>\n",
       "      <td>7.626472</td>\n",
       "      <td>-15.145624</td>\n",
       "      <td>2.573852</td>\n",
       "      <td>-1.738562</td>\n",
       "      <td>-4.356829</td>\n",
       "      <td>12.074589</td>\n",
       "      <td>-1.690861</td>\n",
       "      <td>-4.196858</td>\n",
       "      <td>7.480426</td>\n",
       "      <td>-7.529877</td>\n",
       "    </tr>\n",
       "    <tr>\n",
       "      <th>...</th>\n",
       "      <td>...</td>\n",
       "      <td>...</td>\n",
       "      <td>...</td>\n",
       "      <td>...</td>\n",
       "      <td>...</td>\n",
       "      <td>...</td>\n",
       "      <td>...</td>\n",
       "      <td>...</td>\n",
       "      <td>...</td>\n",
       "      <td>...</td>\n",
       "      <td>...</td>\n",
       "      <td>...</td>\n",
       "      <td>...</td>\n",
       "      <td>...</td>\n",
       "      <td>...</td>\n",
       "      <td>...</td>\n",
       "      <td>...</td>\n",
       "      <td>...</td>\n",
       "      <td>...</td>\n",
       "      <td>...</td>\n",
       "    </tr>\n",
       "    <tr>\n",
       "      <th>2395</th>\n",
       "      <td>-471.168152</td>\n",
       "      <td>174.177719</td>\n",
       "      <td>-61.235085</td>\n",
       "      <td>12.727226</td>\n",
       "      <td>30.873041</td>\n",
       "      <td>-36.746826</td>\n",
       "      <td>-5.208332</td>\n",
       "      <td>-3.956880</td>\n",
       "      <td>-33.039265</td>\n",
       "      <td>4.546687</td>\n",
       "      <td>7.894004</td>\n",
       "      <td>-20.314005</td>\n",
       "      <td>-3.749267</td>\n",
       "      <td>3.017381</td>\n",
       "      <td>-4.958826</td>\n",
       "      <td>-2.270370</td>\n",
       "      <td>-12.108484</td>\n",
       "      <td>-7.399536</td>\n",
       "      <td>5.009678</td>\n",
       "      <td>-10.887519</td>\n",
       "    </tr>\n",
       "    <tr>\n",
       "      <th>1634</th>\n",
       "      <td>-343.619965</td>\n",
       "      <td>171.267380</td>\n",
       "      <td>-54.617809</td>\n",
       "      <td>-0.148304</td>\n",
       "      <td>27.777250</td>\n",
       "      <td>-33.313854</td>\n",
       "      <td>-9.178011</td>\n",
       "      <td>10.224354</td>\n",
       "      <td>-17.167723</td>\n",
       "      <td>-1.054875</td>\n",
       "      <td>13.403250</td>\n",
       "      <td>-2.331831</td>\n",
       "      <td>-3.823094</td>\n",
       "      <td>-5.909204</td>\n",
       "      <td>-6.713609</td>\n",
       "      <td>2.038657</td>\n",
       "      <td>-7.509491</td>\n",
       "      <td>-11.357720</td>\n",
       "      <td>3.757999</td>\n",
       "      <td>-0.493978</td>\n",
       "    </tr>\n",
       "    <tr>\n",
       "      <th>543</th>\n",
       "      <td>-611.069153</td>\n",
       "      <td>211.668533</td>\n",
       "      <td>-44.132626</td>\n",
       "      <td>23.270361</td>\n",
       "      <td>20.099285</td>\n",
       "      <td>-42.715546</td>\n",
       "      <td>11.445559</td>\n",
       "      <td>9.198569</td>\n",
       "      <td>-25.248800</td>\n",
       "      <td>7.888493</td>\n",
       "      <td>0.211774</td>\n",
       "      <td>-18.186563</td>\n",
       "      <td>5.824899</td>\n",
       "      <td>-1.899836</td>\n",
       "      <td>-8.071268</td>\n",
       "      <td>5.939594</td>\n",
       "      <td>-10.929110</td>\n",
       "      <td>-13.573047</td>\n",
       "      <td>-1.054492</td>\n",
       "      <td>-15.063240</td>\n",
       "    </tr>\n",
       "    <tr>\n",
       "      <th>2671</th>\n",
       "      <td>-601.402283</td>\n",
       "      <td>161.805374</td>\n",
       "      <td>-51.573177</td>\n",
       "      <td>48.599865</td>\n",
       "      <td>34.492290</td>\n",
       "      <td>-51.336674</td>\n",
       "      <td>0.444936</td>\n",
       "      <td>1.713896</td>\n",
       "      <td>-31.051743</td>\n",
       "      <td>0.388357</td>\n",
       "      <td>-12.920789</td>\n",
       "      <td>-23.273195</td>\n",
       "      <td>11.818683</td>\n",
       "      <td>-3.499739</td>\n",
       "      <td>-14.663442</td>\n",
       "      <td>9.977845</td>\n",
       "      <td>-0.463602</td>\n",
       "      <td>-6.500505</td>\n",
       "      <td>5.300980</td>\n",
       "      <td>-3.685828</td>\n",
       "    </tr>\n",
       "    <tr>\n",
       "      <th>131</th>\n",
       "      <td>-405.034515</td>\n",
       "      <td>200.049652</td>\n",
       "      <td>-45.800312</td>\n",
       "      <td>20.094625</td>\n",
       "      <td>45.703201</td>\n",
       "      <td>-22.807875</td>\n",
       "      <td>-2.230143</td>\n",
       "      <td>3.185683</td>\n",
       "      <td>-23.577003</td>\n",
       "      <td>-0.622985</td>\n",
       "      <td>-0.868695</td>\n",
       "      <td>-17.181505</td>\n",
       "      <td>3.645675</td>\n",
       "      <td>4.451067</td>\n",
       "      <td>-9.218902</td>\n",
       "      <td>-1.927389</td>\n",
       "      <td>-2.400814</td>\n",
       "      <td>-2.658331</td>\n",
       "      <td>1.670204</td>\n",
       "      <td>-7.286332</td>\n",
       "    </tr>\n",
       "  </tbody>\n",
       "</table>\n",
       "<p>600 rows × 20 columns</p>\n",
       "</div>"
      ],
      "text/plain": [
       "           mfcc0       mfcc1      mfcc2      mfcc3      mfcc4      mfcc5  \\\n",
       "2899 -361.185608  224.099640 -74.386124  26.900375  35.477524 -32.615807   \n",
       "2670 -445.646210  154.228531 -70.482491  46.975178  43.883823 -62.140144   \n",
       "2774 -319.585663  205.282486 -59.729504  31.432556  37.428776 -34.827110   \n",
       "1699 -323.658569  229.948303 -75.988762  14.471116  12.468710 -51.622307   \n",
       "1933 -390.043213  164.564713 -85.671143  32.009109  50.535133 -40.572746   \n",
       "...          ...         ...        ...        ...        ...        ...   \n",
       "2395 -471.168152  174.177719 -61.235085  12.727226  30.873041 -36.746826   \n",
       "1634 -343.619965  171.267380 -54.617809  -0.148304  27.777250 -33.313854   \n",
       "543  -611.069153  211.668533 -44.132626  23.270361  20.099285 -42.715546   \n",
       "2671 -601.402283  161.805374 -51.573177  48.599865  34.492290 -51.336674   \n",
       "131  -405.034515  200.049652 -45.800312  20.094625  45.703201 -22.807875   \n",
       "\n",
       "          mfcc6      mfcc7      mfcc8      mfcc9     mfcc10     mfcc11  \\\n",
       "2899  16.610027  -3.992146 -31.784626  20.127375   0.670310 -22.105301   \n",
       "2670 -13.252985   6.204161 -32.171612  -6.321438  -8.566392 -23.356506   \n",
       "2774   8.720160  -3.704654 -36.813175   0.970823  -3.782102 -16.176172   \n",
       "1699  19.409571   3.076319 -35.856956  12.524756  -2.023012 -17.673622   \n",
       "1933   1.115468   8.565308 -27.554832   6.965716   7.626472 -15.145624   \n",
       "...         ...        ...        ...        ...        ...        ...   \n",
       "2395  -5.208332  -3.956880 -33.039265   4.546687   7.894004 -20.314005   \n",
       "1634  -9.178011  10.224354 -17.167723  -1.054875  13.403250  -2.331831   \n",
       "543   11.445559   9.198569 -25.248800   7.888493   0.211774 -18.186563   \n",
       "2671   0.444936   1.713896 -31.051743   0.388357 -12.920789 -23.273195   \n",
       "131   -2.230143   3.185683 -23.577003  -0.622985  -0.868695 -17.181505   \n",
       "\n",
       "         mfcc12     mfcc13     mfcc14     mfcc15     mfcc16     mfcc17  \\\n",
       "2899   9.740358  -7.090157 -12.183558  12.488370  -5.912700  -6.787135   \n",
       "2670   7.462023   1.519496 -13.174471   5.318227   0.493516  -3.060100   \n",
       "2774  -2.676745 -20.364717 -14.352981  -0.924778 -22.073835  -9.298434   \n",
       "1699  14.016465  -8.062601 -13.599543   9.859485  -8.823350  -3.717883   \n",
       "1933   2.573852  -1.738562  -4.356829  12.074589  -1.690861  -4.196858   \n",
       "...         ...        ...        ...        ...        ...        ...   \n",
       "2395  -3.749267   3.017381  -4.958826  -2.270370 -12.108484  -7.399536   \n",
       "1634  -3.823094  -5.909204  -6.713609   2.038657  -7.509491 -11.357720   \n",
       "543    5.824899  -1.899836  -8.071268   5.939594 -10.929110 -13.573047   \n",
       "2671  11.818683  -3.499739 -14.663442   9.977845  -0.463602  -6.500505   \n",
       "131    3.645675   4.451067  -9.218902  -1.927389  -2.400814  -2.658331   \n",
       "\n",
       "         mfcc18     mfcc19  \n",
       "2899   7.652180  -9.638283  \n",
       "2670   5.915523  -8.278802  \n",
       "2774   1.781609 -21.839695  \n",
       "1699  11.254442 -10.347220  \n",
       "1933   7.480426  -7.529877  \n",
       "...         ...        ...  \n",
       "2395   5.009678 -10.887519  \n",
       "1634   3.757999  -0.493978  \n",
       "543   -1.054492 -15.063240  \n",
       "2671   5.300980  -3.685828  \n",
       "131    1.670204  -7.286332  \n",
       "\n",
       "[600 rows x 20 columns]"
      ]
     },
     "execution_count": 37,
     "metadata": {},
     "output_type": "execute_result"
    }
   ],
   "source": [
    "X_test"
   ]
  },
  {
   "cell_type": "code",
   "execution_count": 38,
   "metadata": {},
   "outputs": [
    {
     "data": {
      "text/plain": [
       "600"
      ]
     },
     "execution_count": 38,
     "metadata": {},
     "output_type": "execute_result"
    }
   ],
   "source": [
    "len(p)"
   ]
  },
  {
   "cell_type": "code",
   "execution_count": 39,
   "metadata": {},
   "outputs": [
    {
     "data": {
      "text/plain": [
       "2899    0\n",
       "2670    0\n",
       "2774    0\n",
       "1699    0\n",
       "1933    0\n",
       "       ..\n",
       "2395    0\n",
       "1634    0\n",
       "543     0\n",
       "2671    0\n",
       "131     0\n",
       "Name: name, Length: 600, dtype: int32"
      ]
     },
     "execution_count": 39,
     "metadata": {},
     "output_type": "execute_result"
    }
   ],
   "source": [
    "y_test"
   ]
  },
  {
   "cell_type": "code",
   "execution_count": 40,
   "id": "e7a852f3",
   "metadata": {},
   "outputs": [],
   "source": [
    "fpr, tpr, th = roc_curve(y_test, p[:,1])"
   ]
  },
  {
   "cell_type": "code",
   "execution_count": 41,
   "id": "76cc0347",
   "metadata": {},
   "outputs": [],
   "source": [
    "import matplotlib.pyplot as plt"
   ]
  },
  {
   "cell_type": "code",
   "execution_count": 42,
   "id": "4fe1e411",
   "metadata": {},
   "outputs": [
    {
     "data": {
      "text/plain": [
       "[<matplotlib.lines.Line2D at 0x272e6ebb850>]"
      ]
     },
     "execution_count": 42,
     "metadata": {},
     "output_type": "execute_result"
    },
    {
     "data": {
      "image/png": "[encoded data removed]",
      "text/plain": [
       "<Figure size 432x288 with 1 Axes>"
      ]
     },
     "metadata": {},
     "output_type": "display_data"
    }
   ],
   "source": [
    "plt.plot(fpr, tpr)\n",
    "plt.plot([0,1],[0,1], c='r', linestyle='--')"
   ]
  },
  {
   "cell_type": "code",
   "execution_count": 43,
   "id": "dd7920b4",
   "metadata": {},
   "outputs": [
    {
     "data": {
      "text/plain": [
       "1.0"
      ]
     },
     "execution_count": 43,
     "metadata": {},
     "output_type": "execute_result"
    }
   ],
   "source": [
    "auc(fpr, tpr)"
   ]
  },
  {
   "cell_type": "code",
   "execution_count": 44,
   "metadata": {},
   "outputs": [
    {
     "data": {
      "text/plain": [
       "LogisticRegression(max_iter=1000)"
      ]
     },
     "execution_count": 44,
     "metadata": {},
     "output_type": "execute_result"
    }
   ],
   "source": [
    "model"
   ]
  },
  {
   "cell_type": "code",
   "execution_count": 45,
   "metadata": {},
   "outputs": [
    {
     "data": {
      "text/plain": [
       "array([0, 0, 0, 0, 0, 0, 0, 1, 0, 0, 0, 1, 0, 1, 1, 0, 1, 0, 0, 0, 0, 0,\n",
       "       1, 0, 0, 0, 0, 0, 0, 0, 0, 0, 0, 0, 0, 1, 0, 0, 1, 0, 0, 0, 1, 0,\n",
       "       0, 0, 0, 0, 0, 0, 0, 0, 0, 0, 0, 0, 1, 0, 1, 0, 0, 0, 0, 0, 0, 0,\n",
       "       1, 1, 0, 0, 0, 0, 0, 0, 0, 0, 0, 1, 0, 0, 0, 0, 0, 0, 0, 1, 0, 0,\n",
       "       0, 0, 0, 1, 0, 0, 0, 0, 0, 0, 0, 0, 0, 0, 1, 0, 0, 0, 0, 0, 0, 0,\n",
       "       0, 0, 0, 1, 0, 0, 0, 0, 0, 0, 0, 0, 0, 0, 0, 1, 0, 1, 0, 0, 0, 0,\n",
       "       0, 0, 0, 0, 0, 0, 0, 0, 0, 0, 0, 0, 0, 0, 0, 0, 0, 0, 1, 0, 0, 0,\n",
       "       0, 0, 0, 1, 0, 0, 1, 0, 0, 0, 0, 0, 1, 0, 0, 0, 1, 0, 0, 0, 1, 0,\n",
       "       0, 1, 0, 0, 0, 0, 0, 0, 0, 1, 0, 0, 0, 0, 0, 0, 0, 0, 0, 0, 0, 0,\n",
       "       0, 1, 0, 0, 0, 0, 0, 0, 1, 0, 1, 1, 0, 1, 0, 0, 0, 1, 0, 0, 0, 0,\n",
       "       0, 1, 0, 0, 1, 0, 0, 0, 0, 0, 0, 1, 0, 1, 0, 0, 0, 1, 0, 1, 0, 0,\n",
       "       0, 0, 0, 0, 0, 1, 0, 0, 0, 0, 0, 0, 0, 0, 0, 0, 0, 0, 0, 0, 0, 0,\n",
       "       0, 0, 0, 0, 1, 0, 0, 0, 0, 0, 0, 0, 0, 0, 0, 0, 1, 0, 0, 0, 0, 0,\n",
       "       0, 0, 0, 0, 0, 0, 1, 0, 0, 0, 0, 0, 0, 0, 0, 0, 0, 0, 1, 1, 0, 0,\n",
       "       0, 0, 0, 0, 0, 1, 0, 0, 0, 0, 0, 0, 0, 1, 0, 0, 0, 0, 0, 0, 0, 0,\n",
       "       0, 0, 0, 0, 0, 0, 0, 0, 0, 0, 0, 0, 0, 0, 0, 1, 0, 0, 1, 0, 0, 0,\n",
       "       1, 0, 0, 0, 0, 0, 1, 0, 0, 0, 0, 0, 0, 1, 0, 0, 1, 0, 1, 0, 0, 0,\n",
       "       0, 0, 0, 0, 0, 0, 0, 0, 0, 0, 0, 1, 0, 0, 0, 0, 0, 0, 0, 0, 1, 0,\n",
       "       0, 0, 0, 0, 0, 0, 0, 0, 0, 0, 0, 1, 0, 0, 0, 1, 0, 0, 0, 1, 0, 0,\n",
       "       0, 0, 0, 0, 0, 0, 0, 0, 1, 0, 1, 1, 0, 0, 1, 0, 0, 0, 1, 0, 0, 0,\n",
       "       0, 0, 0, 0, 0, 0, 0, 0, 1, 0, 0, 0, 1, 0, 0, 0, 0, 0, 0, 0, 0, 0,\n",
       "       1, 0, 1, 0, 0, 1, 0, 0, 0, 1, 0, 1, 0, 0, 0, 1, 1, 0, 0, 0, 0, 0,\n",
       "       0, 0, 1, 0, 0, 0, 0, 0, 1, 0, 0, 0, 0, 0, 0, 0, 0, 1, 0, 0, 0, 0,\n",
       "       0, 0, 0, 0, 1, 0, 0, 0, 0, 0, 0, 0, 0, 0, 0, 0, 1, 0, 0, 0, 0, 0,\n",
       "       0, 0, 1, 0, 1, 0, 0, 0, 0, 0, 0, 1, 0, 0, 0, 1, 0, 0, 0, 0, 0, 0,\n",
       "       0, 0, 0, 0, 0, 0, 0, 0, 0, 0, 0, 0, 0, 0, 0, 0, 0, 0, 0, 0, 0, 1,\n",
       "       0, 0, 0, 0, 0, 0, 0, 0, 0, 0, 0, 0, 0, 0, 0, 0, 0, 0, 0, 1, 0, 0,\n",
       "       0, 0, 0, 0, 0, 0])"
      ]
     },
     "execution_count": 45,
     "metadata": {},
     "output_type": "execute_result"
    }
   ],
   "source": [
    "y_pred"
   ]
  },
  {
   "cell_type": "code",
   "execution_count": 46,
   "metadata": {},
   "outputs": [
    {
     "data": {
      "text/plain": [
       "array([1, 1, 1, ..., 0, 0, 0])"
      ]
     },
     "execution_count": 46,
     "metadata": {},
     "output_type": "execute_result"
    }
   ],
   "source": [
    "model.predict(X)"
   ]
  },
  {
   "cell_type": "code",
   "execution_count": 47,
   "metadata": {},
   "outputs": [
    {
     "data": {
      "text/plain": [
       "0.9996666666666667"
      ]
     },
     "execution_count": 47,
     "metadata": {},
     "output_type": "execute_result"
    }
   ],
   "source": [
    "model.score(X,y)"
   ]
  },
  {
   "cell_type": "code",
   "execution_count": 48,
   "metadata": {},
   "outputs": [
    {
     "name": "stdout",
     "output_type": "stream",
     "text": [
      "Help on method score in module sklearn.base:\n",
      "\n",
      "score(X, y, sample_weight=None) method of sklearn.linear_model._logistic.LogisticRegression instance\n",
      "    Return the mean accuracy on the given test data and labels.\n",
      "    \n",
      "    In multi-label classification, this is the subset accuracy\n",
      "    which is a harsh metric since you require for each sample that\n",
      "    each label set be correctly predicted.\n",
      "    \n",
      "    Parameters\n",
      "    ----------\n",
      "    X : array-like of shape (n_samples, n_features)\n",
      "        Test samples.\n",
      "    \n",
      "    y : array-like of shape (n_samples,) or (n_samples, n_outputs)\n",
      "        True labels for `X`.\n",
      "    \n",
      "    sample_weight : array-like of shape (n_samples,), default=None\n",
      "        Sample weights.\n",
      "    \n",
      "    Returns\n",
      "    -------\n",
      "    score : float\n",
      "        Mean accuracy of ``self.predict(X)`` wrt. `y`.\n",
      "\n"
     ]
    }
   ],
   "source": [
    "help(model.score)"
   ]
  },
  {
   "cell_type": "code",
   "execution_count": 49,
   "metadata": {},
   "outputs": [],
   "source": [
    "from sklearn.model_selection import train_test_split"
   ]
  },
  {
   "cell_type": "code",
   "execution_count": 50,
   "metadata": {},
   "outputs": [
    {
     "data": {
      "text/plain": [
       "[           mfcc0       mfcc1      mfcc2      mfcc3      mfcc4      mfcc5  \\\n",
       " 822  -568.347168  218.266296 -67.570412  40.876629  36.391838 -45.910843   \n",
       " 1601 -483.545715  105.954353 -35.338161   4.977495  22.661360 -16.457769   \n",
       " 2084 -492.965363  202.765900 -70.742401  52.098488  55.670368 -54.232430   \n",
       " 119  -382.735809  202.337784 -43.237995  11.131782  39.439205 -23.350077   \n",
       " 1144 -524.524292  176.245941 -40.130314  37.753380  45.554436 -35.834465   \n",
       " ...          ...         ...        ...        ...        ...        ...   \n",
       " 2566 -313.154694  173.894531 -63.260025  33.060425  31.729164 -46.678459   \n",
       " 2334 -532.986328  169.547714 -59.834164  19.304916  23.674158 -40.249222   \n",
       " 192  -382.479675  208.138519 -55.713219  51.358864  35.341389 -40.123760   \n",
       " 835  -514.462463  195.108932 -68.727562  43.824471  39.940948 -46.455471   \n",
       " 237  -499.021851  192.983994 -58.311981   8.648964  33.814091 -28.178589   \n",
       " \n",
       "           mfcc6      mfcc7      mfcc8      mfcc9     mfcc10     mfcc11  \\\n",
       " 822   14.447487   6.560157 -28.855648   6.192438 -16.664618 -24.703854   \n",
       " 1601  -1.743750   5.502673 -11.780506   1.271246   6.468136  -4.691460   \n",
       " 2084  -6.789530   7.870085 -29.828403  -6.992339 -15.085000 -21.340698   \n",
       " 119   -5.766502   1.945673 -22.906336  -3.772885  -1.938921 -14.623726   \n",
       " 1144 -20.130987 -10.723752 -18.847782  -3.281735 -23.055202 -25.502129   \n",
       " ...         ...        ...        ...        ...        ...        ...   \n",
       " 2566   1.351092  -0.767796 -27.791862  12.244488  -1.155409 -18.034609   \n",
       " 2334   0.150881  -4.379208 -25.178787  12.024254   0.448806 -16.095200   \n",
       " 192   24.455051   2.454769 -35.642353   9.241104 -14.302014 -28.165915   \n",
       " 835    4.037902  -7.739313 -36.657383   2.790947 -22.579727 -31.190929   \n",
       " 237   -9.712029 -13.652614 -26.791885   4.986304  -9.640040 -23.504337   \n",
       " \n",
       "          mfcc12     mfcc13     mfcc14     mfcc15     mfcc16     mfcc17  \\\n",
       " 822   14.201236  -8.705776 -11.460208  15.946358  -9.013598  -8.578155   \n",
       " 1601  -1.132760  -1.553009  -1.856299   4.898563  -2.910240  -6.451124   \n",
       " 2084   8.090805  -6.384686  -8.605714  12.547482  -3.881390  -0.494675   \n",
       " 119    4.005760   2.998722  -9.063869   0.112258  -2.759187  -6.348835   \n",
       " 1144  -2.617763 -15.620543  -7.195481  11.132010 -11.237864  -7.944919   \n",
       " ...         ...        ...        ...        ...        ...        ...   \n",
       " 2566  12.756984  -3.885902 -14.645420   8.514240  -5.677924  -7.778060   \n",
       " 2334   5.313597  -2.322714   1.146413   9.470752 -17.112850  -9.166312   \n",
       " 192   11.831171  -4.871175  -5.919892  16.527893  -8.812683  -6.932419   \n",
       " 835    9.072860 -14.466798 -14.814588  15.682903  -8.534234  -5.205752   \n",
       " 237    3.123391  -7.668879 -11.768669  12.041656  -1.609601 -12.680387   \n",
       " \n",
       "          mfcc18     mfcc19  \n",
       " 822   10.022438 -11.267217  \n",
       " 1601   2.549036  -2.397537  \n",
       " 2084  12.344728  -7.476638  \n",
       " 119    1.064418  -6.859087  \n",
       " 1144   6.720866 -11.673210  \n",
       " ...         ...        ...  \n",
       " 2566   8.876607  -7.542867  \n",
       " 2334   5.927929 -18.682186  \n",
       " 192    9.028983  -9.090970  \n",
       " 835   10.020947 -20.611616  \n",
       " 237   -4.332807 -15.199086  \n",
       " \n",
       " [2250 rows x 20 columns],\n",
       "            mfcc0       mfcc1       mfcc2      mfcc3      mfcc4      mfcc5  \\\n",
       " 1741 -551.231750  238.808243 -103.455704   3.842317  26.873745 -49.181122   \n",
       " 2710 -390.886719  194.319321  -99.159172  11.368718  30.619946 -55.209679   \n",
       " 677  -355.584412  192.151123  -57.910194  39.100426  44.782303 -41.687679   \n",
       " 2420 -396.191986  155.566620  -93.313545  40.360573  34.469509 -67.991020   \n",
       " 2469 -365.401672  167.070328  -43.243355  42.680740  33.783302 -56.320198   \n",
       " ...          ...         ...         ...        ...        ...        ...   \n",
       " 2112 -355.469696  138.623672  -80.439079  13.765989  28.542183 -37.988663   \n",
       " 2368 -466.804504  210.560333  -64.145554  12.744113  30.819426 -40.973118   \n",
       " 2782 -328.531372  219.390121  -64.885551  23.736246  34.559757 -36.880577   \n",
       " 661  -351.868286  192.961685  -43.953453  32.424442  40.817883 -28.230734   \n",
       " 1497 -505.617920  221.609238  -30.708231 -17.026794 -11.905437 -45.729237   \n",
       " \n",
       "           mfcc6      mfcc7      mfcc8      mfcc9     mfcc10     mfcc11  \\\n",
       " 1741  10.615331   8.760723 -25.190939  18.430395   7.251347 -13.145142   \n",
       " 2710 -12.566196 -17.120111 -43.720661   5.506502  -9.988501 -37.496254   \n",
       " 677  -14.485397 -16.305475 -27.165234  13.600055 -14.006298 -37.458801   \n",
       " 2420  -7.116680  -8.782393 -49.825375  -1.449694 -17.509455 -44.335766   \n",
       " 2469 -22.419590  -2.934964 -18.941650  -4.099364 -17.771969 -20.809164   \n",
       " ...         ...        ...        ...        ...        ...        ...   \n",
       " 2112 -16.471378 -36.434853 -43.853043   9.941457 -17.204063 -43.607681   \n",
       " 2368  -1.727357  -0.274089 -33.179771   5.388786   9.509643 -16.727306   \n",
       " 2782  10.075672  -0.715840 -38.130909   1.464569  -1.687249 -20.431770   \n",
       " 661  -10.232124 -18.611347 -22.046257  13.763095 -17.911795 -33.879833   \n",
       " 1497   1.086833   3.821392 -24.444872   2.443536  -1.038805 -21.547379   \n",
       " \n",
       "         mfcc12     mfcc13     mfcc14     mfcc15     mfcc16     mfcc17  \\\n",
       " 1741  6.757535 -12.668302  -5.680674  16.994635 -19.053322 -18.887604   \n",
       " 2710 -2.339494 -14.421866 -33.951557 -11.160908 -15.917490 -18.804441   \n",
       " 677  -0.665175 -13.286792 -20.650101   8.280742 -11.303209 -15.866998   \n",
       " 2420  3.013934  -8.905160 -34.365486  -3.213141  -9.769817 -25.864882   \n",
       " 2469  1.468128 -10.175851  -7.072993   6.633612 -11.933992  -7.270174   \n",
       " ...        ...        ...        ...        ...        ...        ...   \n",
       " 2112  0.810680  -4.510379 -21.971581  -1.982066 -10.505109 -14.399895   \n",
       " 2368 -3.997200  -1.672847  -1.771450   2.805746 -15.374069 -10.611532   \n",
       " 2782 -3.470401 -14.133834 -15.845538  -4.394374 -15.897097  -7.219705   \n",
       " 661   2.918382 -13.514255 -20.703405   8.129576  -8.549827 -14.378570   \n",
       " 1497  2.436883   6.964181  -8.294368  -4.786552  -7.556406  -6.220264   \n",
       " \n",
       "          mfcc18     mfcc19  \n",
       " 1741   7.397667 -16.003189  \n",
       " 2710  -6.171273 -14.345801  \n",
       " 677   12.965433  -6.562166  \n",
       " 2420  -8.167450 -10.052637  \n",
       " 2469   3.980377 -13.211571  \n",
       " ...         ...        ...  \n",
       " 2112  -2.501926 -17.637880  \n",
       " 2368   4.683666  -7.663720  \n",
       " 2782  -4.521443 -21.497158  \n",
       " 661    8.536537  -5.214046  \n",
       " 1497   1.195191  -9.840898  \n",
       " \n",
       " [750 rows x 20 columns],\n",
       " 822     0\n",
       " 1601    0\n",
       " 2084    0\n",
       " 119     0\n",
       " 1144    0\n",
       "        ..\n",
       " 2566    0\n",
       " 2334    0\n",
       " 192     0\n",
       " 835     0\n",
       " 237     0\n",
       " Name: name, Length: 2250, dtype: int32,\n",
       " 1741    0\n",
       " 2710    1\n",
       " 677     0\n",
       " 2420    1\n",
       " 2469    0\n",
       "        ..\n",
       " 2112    1\n",
       " 2368    0\n",
       " 2782    0\n",
       " 661     0\n",
       " 1497    0\n",
       " Name: name, Length: 750, dtype: int32]"
      ]
     },
     "execution_count": 50,
     "metadata": {},
     "output_type": "execute_result"
    }
   ],
   "source": [
    "train_test_split(X,y)"
   ]
  },
  {
   "cell_type": "code",
   "execution_count": null,
   "metadata": {},
   "outputs": [],
   "source": []
  }
 ],
 "metadata": {
  "interpreter": {
   "hash": "aee8b7b246df8f9039afb4144a1f6fd8d2ca17a180786b69acc140d282b71a49"
  },
  "kernelspec": {
   "display_name": "Python 3.9.6 64-bit",
   "language": "python",
   "name": "python3"
  },
  "language_info": {
   "codemirror_mode": {
    "name": "ipython",
    "version": 3
   },
   "file_extension": ".py",
   "mimetype": "text/x-python",
   "name": "python",
   "nbconvert_exporter": "python",
   "pygments_lexer": "ipython3",
   "version": "3.8.12"
  },
  "orig_nbformat": 4
 },
 "nbformat": 4,
 "nbformat_minor": 2
}
